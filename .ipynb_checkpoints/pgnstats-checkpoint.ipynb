{
 "cells": [
  {
   "cell_type": "code",
   "execution_count": 8,
   "metadata": {},
   "outputs": [],
   "source": [
    "import requests\n",
    "import zipfile\n",
    "import os\n",
    "from pathlib import Path, PurePath\n",
    "import shutil\n",
    "from collections import defaultdict\n",
    "import numpy as np\n",
    "import pandas as pd\n",
    "import re\n",
    "import plotly.express as px"
   ]
  },
  {
   "cell_type": "markdown",
   "metadata": {},
   "source": [
    "I will use https://www.pgnmentor.com as a source for chess games in PGN format. This resource allows downloading zipped PGNs."
   ]
  },
  {
   "cell_type": "code",
   "execution_count": 59,
   "metadata": {},
   "outputs": [],
   "source": [
    "lastname=\"Carlsen\"\n",
    "top = 30\n",
    "directory_to_extract_to = 'downloads'"
   ]
  },
  {
   "cell_type": "markdown",
   "metadata": {},
   "source": [
    "#### Downloading and saving archive with PGN file"
   ]
  },
  {
   "cell_type": "code",
   "execution_count": 60,
   "metadata": {},
   "outputs": [
    {
     "name": "stdout",
     "output_type": "stream",
     "text": [
      "Downloading ZIP with PGNs of Carlsen\n",
      "Download successful\n"
     ]
    }
   ],
   "source": [
    "print('Downloading ZIP with PGNs of '+lastname)\n",
    "zipFileUrl = \"https://www.pgnmentor.com/players/\"+lastname+\".zip\"\n",
    "zipFile = requests.get(zipFileUrl)\n",
    "\n",
    "if not os.path.exists(directory_to_extract_to):\n",
    "    os.makedirs(directory_to_extract_to)\n",
    "else:\n",
    "    shutil.rmtree(directory_to_extract_to)           # Removes all the subdirectories!\n",
    "    os.makedirs(directory_to_extract_to)\n",
    "\n",
    "path_to_zip_file = \"downloads/\"+lastname+'.zip'\n",
    "\n",
    "print(\"Download successful\")\n",
    "\n"
   ]
  },
  {
   "cell_type": "code",
   "execution_count": 61,
   "metadata": {},
   "outputs": [],
   "source": [
    "with open(os.fspath(PurePath(path_to_zip_file)), 'wb') as f:  \n",
    "    f.write(zipFile.content)"
   ]
  },
  {
   "cell_type": "markdown",
   "metadata": {},
   "source": [
    "#### Unpacking PGN file"
   ]
  },
  {
   "cell_type": "code",
   "execution_count": 62,
   "metadata": {},
   "outputs": [],
   "source": [
    "zip_ref = zipfile.ZipFile(os.fspath(PurePath(path_to_zip_file)), 'r')\n",
    "zip_ref.extractall(os.fspath(PurePath(directory_to_extract_to)))\n",
    "zip_ref.close()"
   ]
  },
  {
   "cell_type": "markdown",
   "metadata": {},
   "source": [
    "#### Converting PGN to DataFrame"
   ]
  },
  {
   "cell_type": "code",
   "execution_count": 76,
   "metadata": {},
   "outputs": [],
   "source": [
    "def convertPGNtoDF(path):\n",
    "    \"\"\"\"\"\"\n",
    "    with open(path, 'r') as file:\n",
    "        data_from_pgn = file.read()\n",
    "        \n",
    "    dct = defaultdict(list)\n",
    "\n",
    "    moves = False\n",
    "    for element in data_from_pgn.split(\"\\n\\n\"):\n",
    "        tags=['Event', 'Site', 'Date', 'Round', 'White', 'Black', 'Result', 'WhiteElo', 'BlackElo', 'ECO', 'moves']\n",
    "        if moves:\n",
    "            dct[\"moves\"].append(element)\n",
    "            moves = False\n",
    "            tags.remove('moves')\n",
    "        else:\n",
    "            for t in re.findall(\"\\[.*\\]\", element):\n",
    "                tag = t[1:-1].split('\"')[0][:-1]\n",
    "                val = t[1:-1].split('\"')[1]\n",
    "                dct[tag].append(val)\n",
    "                tags.remove(tag)\n",
    "                \n",
    "            for t in tags:\n",
    "                dct[t].append(np.nan)\n",
    "                #print(\"nan for \", tag)\n",
    "            moves = True\n",
    "    for d in dct:\n",
    "        print(d,\":\",len(dct[d]))\n",
    "    print(dct.keys())\n",
    "    input()\n",
    "    return pd.DataFrame(dct)"
   ]
  },
  {
   "cell_type": "code",
   "execution_count": null,
   "metadata": {},
   "outputs": [],
   "source": []
  },
  {
   "cell_type": "code",
   "execution_count": 77,
   "metadata": {},
   "outputs": [
    {
     "name": "stdout",
     "output_type": "stream",
     "text": [
      "Event : 3431\n",
      "Site : 3431\n",
      "Date : 3431\n",
      "Round : 3431\n",
      "White : 3431\n",
      "Black : 3431\n",
      "Result : 3431\n",
      "WhiteElo : 3431\n",
      "BlackElo : 3431\n",
      "ECO : 3431\n",
      "moves : 3430\n",
      "dict_keys(['Event', 'Site', 'Date', 'Round', 'White', 'Black', 'Result', 'WhiteElo', 'BlackElo', 'ECO', 'moves'])\n"
     ]
    },
    {
     "ename": "KeyboardInterrupt",
     "evalue": "Interrupted by user",
     "output_type": "error",
     "traceback": [
      "\u001b[1;31m---------------------------------------------------------------------------\u001b[0m",
      "\u001b[1;31mKeyboardInterrupt\u001b[0m                         Traceback (most recent call last)",
      "\u001b[1;32m<ipython-input-77-b14b78bc5e22>\u001b[0m in \u001b[0;36m<module>\u001b[1;34m\u001b[0m\n\u001b[1;32m----> 1\u001b[1;33m \u001b[0mrawDf\u001b[0m \u001b[1;33m=\u001b[0m \u001b[0mconvertPGNtoDF\u001b[0m\u001b[1;33m(\u001b[0m\u001b[0mdirectory_to_extract_to\u001b[0m\u001b[1;33m+\u001b[0m\u001b[1;34m'/'\u001b[0m\u001b[1;33m+\u001b[0m\u001b[0mlastname\u001b[0m\u001b[1;33m+\u001b[0m\u001b[1;34m'.pgn'\u001b[0m\u001b[1;33m)\u001b[0m\u001b[1;33m\u001b[0m\u001b[1;33m\u001b[0m\u001b[0m\n\u001b[0m\u001b[0;32m      2\u001b[0m \u001b[0mrawDf\u001b[0m\u001b[1;33m\u001b[0m\u001b[1;33m\u001b[0m\u001b[0m\n",
      "\u001b[1;32m<ipython-input-76-add36ddd6ef0>\u001b[0m in \u001b[0;36mconvertPGNtoDF\u001b[1;34m(path)\u001b[0m\n\u001b[0;32m     27\u001b[0m         \u001b[0mprint\u001b[0m\u001b[1;33m(\u001b[0m\u001b[0md\u001b[0m\u001b[1;33m,\u001b[0m\u001b[1;34m\":\"\u001b[0m\u001b[1;33m,\u001b[0m\u001b[0mlen\u001b[0m\u001b[1;33m(\u001b[0m\u001b[0mdct\u001b[0m\u001b[1;33m[\u001b[0m\u001b[0md\u001b[0m\u001b[1;33m]\u001b[0m\u001b[1;33m)\u001b[0m\u001b[1;33m)\u001b[0m\u001b[1;33m\u001b[0m\u001b[1;33m\u001b[0m\u001b[0m\n\u001b[0;32m     28\u001b[0m     \u001b[0mprint\u001b[0m\u001b[1;33m(\u001b[0m\u001b[0mdct\u001b[0m\u001b[1;33m.\u001b[0m\u001b[0mkeys\u001b[0m\u001b[1;33m(\u001b[0m\u001b[1;33m)\u001b[0m\u001b[1;33m)\u001b[0m\u001b[1;33m\u001b[0m\u001b[1;33m\u001b[0m\u001b[0m\n\u001b[1;32m---> 29\u001b[1;33m     \u001b[0minput\u001b[0m\u001b[1;33m(\u001b[0m\u001b[1;33m)\u001b[0m\u001b[1;33m\u001b[0m\u001b[1;33m\u001b[0m\u001b[0m\n\u001b[0m\u001b[0;32m     30\u001b[0m     \u001b[1;32mreturn\u001b[0m \u001b[0mpd\u001b[0m\u001b[1;33m.\u001b[0m\u001b[0mDataFrame\u001b[0m\u001b[1;33m(\u001b[0m\u001b[0mdct\u001b[0m\u001b[1;33m)\u001b[0m\u001b[1;33m\u001b[0m\u001b[1;33m\u001b[0m\u001b[0m\n",
      "\u001b[1;32mc:\\users\\inoti\\appdata\\local\\programs\\python\\python39\\lib\\site-packages\\ipykernel\\kernelbase.py\u001b[0m in \u001b[0;36mraw_input\u001b[1;34m(self, prompt)\u001b[0m\n\u001b[0;32m    855\u001b[0m                 \u001b[1;34m\"raw_input was called, but this frontend does not support input requests.\"\u001b[0m\u001b[1;33m\u001b[0m\u001b[1;33m\u001b[0m\u001b[0m\n\u001b[0;32m    856\u001b[0m             )\n\u001b[1;32m--> 857\u001b[1;33m         return self._input_request(str(prompt),\n\u001b[0m\u001b[0;32m    858\u001b[0m             \u001b[0mself\u001b[0m\u001b[1;33m.\u001b[0m\u001b[0m_parent_ident\u001b[0m\u001b[1;33m,\u001b[0m\u001b[1;33m\u001b[0m\u001b[1;33m\u001b[0m\u001b[0m\n\u001b[0;32m    859\u001b[0m             \u001b[0mself\u001b[0m\u001b[1;33m.\u001b[0m\u001b[0m_parent_header\u001b[0m\u001b[1;33m,\u001b[0m\u001b[1;33m\u001b[0m\u001b[1;33m\u001b[0m\u001b[0m\n",
      "\u001b[1;32mc:\\users\\inoti\\appdata\\local\\programs\\python\\python39\\lib\\site-packages\\ipykernel\\kernelbase.py\u001b[0m in \u001b[0;36m_input_request\u001b[1;34m(self, prompt, ident, parent, password)\u001b[0m\n\u001b[0;32m    899\u001b[0m             \u001b[1;32mexcept\u001b[0m \u001b[0mKeyboardInterrupt\u001b[0m\u001b[1;33m:\u001b[0m\u001b[1;33m\u001b[0m\u001b[1;33m\u001b[0m\u001b[0m\n\u001b[0;32m    900\u001b[0m                 \u001b[1;31m# re-raise KeyboardInterrupt, to truncate traceback\u001b[0m\u001b[1;33m\u001b[0m\u001b[1;33m\u001b[0m\u001b[1;33m\u001b[0m\u001b[0m\n\u001b[1;32m--> 901\u001b[1;33m                 \u001b[1;32mraise\u001b[0m \u001b[0mKeyboardInterrupt\u001b[0m\u001b[1;33m(\u001b[0m\u001b[1;34m\"Interrupted by user\"\u001b[0m\u001b[1;33m)\u001b[0m \u001b[1;32mfrom\u001b[0m \u001b[1;32mNone\u001b[0m\u001b[1;33m\u001b[0m\u001b[1;33m\u001b[0m\u001b[0m\n\u001b[0m\u001b[0;32m    902\u001b[0m             \u001b[1;32mexcept\u001b[0m \u001b[0mException\u001b[0m \u001b[1;32mas\u001b[0m \u001b[0me\u001b[0m\u001b[1;33m:\u001b[0m\u001b[1;33m\u001b[0m\u001b[1;33m\u001b[0m\u001b[0m\n\u001b[0;32m    903\u001b[0m                 \u001b[0mself\u001b[0m\u001b[1;33m.\u001b[0m\u001b[0mlog\u001b[0m\u001b[1;33m.\u001b[0m\u001b[0mwarning\u001b[0m\u001b[1;33m(\u001b[0m\u001b[1;34m\"Invalid Message:\"\u001b[0m\u001b[1;33m,\u001b[0m \u001b[0mexc_info\u001b[0m\u001b[1;33m=\u001b[0m\u001b[1;32mTrue\u001b[0m\u001b[1;33m)\u001b[0m\u001b[1;33m\u001b[0m\u001b[1;33m\u001b[0m\u001b[0m\n",
      "\u001b[1;31mKeyboardInterrupt\u001b[0m: Interrupted by user"
     ]
    }
   ],
   "source": [
    "rawDf = convertPGNtoDF(directory_to_extract_to+'/'+lastname+'.pgn')\n",
    "rawDf"
   ]
  },
  {
   "cell_type": "markdown",
   "metadata": {},
   "source": [
    "#### Finding out the top openings"
   ]
  },
  {
   "cell_type": "code",
   "execution_count": 44,
   "metadata": {},
   "outputs": [
    {
     "data": {
      "text/html": [
       "<div>\n",
       "<style scoped>\n",
       "    .dataframe tbody tr th:only-of-type {\n",
       "        vertical-align: middle;\n",
       "    }\n",
       "\n",
       "    .dataframe tbody tr th {\n",
       "        vertical-align: top;\n",
       "    }\n",
       "\n",
       "    .dataframe thead th {\n",
       "        text-align: right;\n",
       "    }\n",
       "</style>\n",
       "<table border=\"1\" class=\"dataframe\">\n",
       "  <thead>\n",
       "    <tr style=\"text-align: right;\">\n",
       "      <th></th>\n",
       "      <th>ECO</th>\n",
       "      <th>Frequency</th>\n",
       "    </tr>\n",
       "  </thead>\n",
       "  <tbody>\n",
       "    <tr>\n",
       "      <th>0</th>\n",
       "      <td>B90</td>\n",
       "      <td>152</td>\n",
       "    </tr>\n",
       "    <tr>\n",
       "      <th>1</th>\n",
       "      <td>C42</td>\n",
       "      <td>127</td>\n",
       "    </tr>\n",
       "    <tr>\n",
       "      <th>2</th>\n",
       "      <td>C65</td>\n",
       "      <td>120</td>\n",
       "    </tr>\n",
       "    <tr>\n",
       "      <th>3</th>\n",
       "      <td>C67</td>\n",
       "      <td>103</td>\n",
       "    </tr>\n",
       "    <tr>\n",
       "      <th>4</th>\n",
       "      <td>C50</td>\n",
       "      <td>87</td>\n",
       "    </tr>\n",
       "    <tr>\n",
       "      <th>5</th>\n",
       "      <td>E15</td>\n",
       "      <td>81</td>\n",
       "    </tr>\n",
       "    <tr>\n",
       "      <th>6</th>\n",
       "      <td>C88</td>\n",
       "      <td>72</td>\n",
       "    </tr>\n",
       "    <tr>\n",
       "      <th>7</th>\n",
       "      <td>B33</td>\n",
       "      <td>70</td>\n",
       "    </tr>\n",
       "    <tr>\n",
       "      <th>8</th>\n",
       "      <td>D37</td>\n",
       "      <td>66</td>\n",
       "    </tr>\n",
       "    <tr>\n",
       "      <th>9</th>\n",
       "      <td>B12</td>\n",
       "      <td>65</td>\n",
       "    </tr>\n",
       "    <tr>\n",
       "      <th>10</th>\n",
       "      <td>C78</td>\n",
       "      <td>61</td>\n",
       "    </tr>\n",
       "    <tr>\n",
       "      <th>11</th>\n",
       "      <td>C11</td>\n",
       "      <td>48</td>\n",
       "    </tr>\n",
       "    <tr>\n",
       "      <th>12</th>\n",
       "      <td>E12</td>\n",
       "      <td>46</td>\n",
       "    </tr>\n",
       "    <tr>\n",
       "      <th>13</th>\n",
       "      <td>C53</td>\n",
       "      <td>41</td>\n",
       "    </tr>\n",
       "    <tr>\n",
       "      <th>14</th>\n",
       "      <td>D43</td>\n",
       "      <td>41</td>\n",
       "    </tr>\n",
       "    <tr>\n",
       "      <th>15</th>\n",
       "      <td>C89</td>\n",
       "      <td>39</td>\n",
       "    </tr>\n",
       "    <tr>\n",
       "      <th>16</th>\n",
       "      <td>C10</td>\n",
       "      <td>39</td>\n",
       "    </tr>\n",
       "    <tr>\n",
       "      <th>17</th>\n",
       "      <td>C84</td>\n",
       "      <td>38</td>\n",
       "    </tr>\n",
       "    <tr>\n",
       "      <th>18</th>\n",
       "      <td>B80</td>\n",
       "      <td>38</td>\n",
       "    </tr>\n",
       "    <tr>\n",
       "      <th>19</th>\n",
       "      <td>B31</td>\n",
       "      <td>37</td>\n",
       "    </tr>\n",
       "    <tr>\n",
       "      <th>20</th>\n",
       "      <td>B19</td>\n",
       "      <td>36</td>\n",
       "    </tr>\n",
       "    <tr>\n",
       "      <th>21</th>\n",
       "      <td>A07</td>\n",
       "      <td>36</td>\n",
       "    </tr>\n",
       "    <tr>\n",
       "      <th>22</th>\n",
       "      <td>C92</td>\n",
       "      <td>35</td>\n",
       "    </tr>\n",
       "    <tr>\n",
       "      <th>23</th>\n",
       "      <td>B17</td>\n",
       "      <td>35</td>\n",
       "    </tr>\n",
       "    <tr>\n",
       "      <th>24</th>\n",
       "      <td>D27</td>\n",
       "      <td>34</td>\n",
       "    </tr>\n",
       "    <tr>\n",
       "      <th>25</th>\n",
       "      <td>B92</td>\n",
       "      <td>34</td>\n",
       "    </tr>\n",
       "    <tr>\n",
       "      <th>26</th>\n",
       "      <td>B85</td>\n",
       "      <td>33</td>\n",
       "    </tr>\n",
       "    <tr>\n",
       "      <th>27</th>\n",
       "      <td>B30</td>\n",
       "      <td>32</td>\n",
       "    </tr>\n",
       "    <tr>\n",
       "      <th>28</th>\n",
       "      <td>B48</td>\n",
       "      <td>30</td>\n",
       "    </tr>\n",
       "    <tr>\n",
       "      <th>29</th>\n",
       "      <td>D45</td>\n",
       "      <td>29</td>\n",
       "    </tr>\n",
       "  </tbody>\n",
       "</table>\n",
       "</div>"
      ],
      "text/plain": [
       "    ECO  Frequency\n",
       "0   B90        152\n",
       "1   C42        127\n",
       "2   C65        120\n",
       "3   C67        103\n",
       "4   C50         87\n",
       "5   E15         81\n",
       "6   C88         72\n",
       "7   B33         70\n",
       "8   D37         66\n",
       "9   B12         65\n",
       "10  C78         61\n",
       "11  C11         48\n",
       "12  E12         46\n",
       "13  C53         41\n",
       "14  D43         41\n",
       "15  C89         39\n",
       "16  C10         39\n",
       "17  C84         38\n",
       "18  B80         38\n",
       "19  B31         37\n",
       "20  B19         36\n",
       "21  A07         36\n",
       "22  C92         35\n",
       "23  B17         35\n",
       "24  D27         34\n",
       "25  B92         34\n",
       "26  B85         33\n",
       "27  B30         32\n",
       "28  B48         30\n",
       "29  D45         29"
      ]
     },
     "execution_count": 44,
     "metadata": {},
     "output_type": "execute_result"
    }
   ],
   "source": [
    "df = rawDf.groupby(\"ECO\").count().sort_values(by=\"Event\", ascending=False).head(top)\n",
    "df.reset_index(inplace=True)\n",
    "df.drop(df.iloc[:, 2:], axis = 1, inplace = True)\n",
    "df.columns=[\"ECO\",\"Frequency\"]\n",
    "df"
   ]
  },
  {
   "cell_type": "code",
   "execution_count": null,
   "metadata": {},
   "outputs": [],
   "source": []
  },
  {
   "cell_type": "code",
   "execution_count": 45,
   "metadata": {},
   "outputs": [],
   "source": [
    "dr = requests.get(\"http://www.neerpeltersk.be/palview4/p4sets/P3eco.txt\")\n",
    "path_to_Eco = 'eco.txt'\n",
    "\n",
    "with open(path_to_Eco, 'wb') as f:  \n",
    "    f.write(dr.content) \n",
    "    "
   ]
  },
  {
   "cell_type": "code",
   "execution_count": 46,
   "metadata": {},
   "outputs": [],
   "source": [
    "with open(path_to_Eco, 'r') as file:\n",
    "    data_from_eco = file.read()"
   ]
  },
  {
   "cell_type": "code",
   "execution_count": 47,
   "metadata": {},
   "outputs": [],
   "source": [
    "ecoDct = defaultdict(list)\n",
    "for row in data_from_eco.split(\"\\n\\n\")[4:]:\n",
    "    code = row[:3]\n",
    "    desc = row[3:].lstrip()\n",
    "    ecoDct[code].append(desc)"
   ]
  },
  {
   "cell_type": "code",
   "execution_count": null,
   "metadata": {},
   "outputs": [],
   "source": []
  },
  {
   "cell_type": "code",
   "execution_count": 48,
   "metadata": {},
   "outputs": [],
   "source": [
    "def getECOdesc(eco):\n",
    "    try:\n",
    "        return ecoDct[eco][0]\n",
    "    except:\n",
    "        return np.nan"
   ]
  },
  {
   "cell_type": "code",
   "execution_count": 55,
   "metadata": {},
   "outputs": [
    {
     "data": {
      "text/html": [
       "<div>\n",
       "<style scoped>\n",
       "    .dataframe tbody tr th:only-of-type {\n",
       "        vertical-align: middle;\n",
       "    }\n",
       "\n",
       "    .dataframe tbody tr th {\n",
       "        vertical-align: top;\n",
       "    }\n",
       "\n",
       "    .dataframe thead th {\n",
       "        text-align: right;\n",
       "    }\n",
       "</style>\n",
       "<table border=\"1\" class=\"dataframe\">\n",
       "  <thead>\n",
       "    <tr style=\"text-align: right;\">\n",
       "      <th></th>\n",
       "      <th>ECO</th>\n",
       "      <th>Frequency</th>\n",
       "      <th>desc</th>\n",
       "      <th>perc</th>\n",
       "    </tr>\n",
       "  </thead>\n",
       "  <tbody>\n",
       "    <tr>\n",
       "      <th>0</th>\n",
       "      <td>B90</td>\n",
       "      <td>152</td>\n",
       "      <td>Sicilian: Najdorf\\n1.e4 c5 2.Nf3 d6 3.d4 cxd4 ...</td>\n",
       "      <td>0.039024</td>\n",
       "    </tr>\n",
       "    <tr>\n",
       "      <th>1</th>\n",
       "      <td>C42</td>\n",
       "      <td>127</td>\n",
       "      <td>Petrov's Defense\\n1.e4 e5 2.Nf3 Nf6 1/2</td>\n",
       "      <td>0.032606</td>\n",
       "    </tr>\n",
       "    <tr>\n",
       "      <th>2</th>\n",
       "      <td>C65</td>\n",
       "      <td>120</td>\n",
       "      <td>Ruy Lopez: Berlin Defense\\n1.e4 e5 2.Nf3 Nc6 3...</td>\n",
       "      <td>0.030809</td>\n",
       "    </tr>\n",
       "    <tr>\n",
       "      <th>3</th>\n",
       "      <td>C67</td>\n",
       "      <td>103</td>\n",
       "      <td>Ruy Lopez: Berlin Defense: Open Variation\\n1.e...</td>\n",
       "      <td>0.026444</td>\n",
       "    </tr>\n",
       "    <tr>\n",
       "      <th>4</th>\n",
       "      <td>C50</td>\n",
       "      <td>87</td>\n",
       "      <td>King's Pawn Game\\n1.e4 e5 2.Nf3 Nc6 3.Bc4 1/2</td>\n",
       "      <td>0.022336</td>\n",
       "    </tr>\n",
       "    <tr>\n",
       "      <th>5</th>\n",
       "      <td>E15</td>\n",
       "      <td>81</td>\n",
       "      <td>Queen's Indian: 4.g3\\n1.d4 Nf6 2.c4 e6 3.Nf3 b...</td>\n",
       "      <td>0.020796</td>\n",
       "    </tr>\n",
       "    <tr>\n",
       "      <th>6</th>\n",
       "      <td>C88</td>\n",
       "      <td>72</td>\n",
       "      <td>Ruy Lopez: Closed: Balla Variation\\n1.e4 e5 2....</td>\n",
       "      <td>0.018485</td>\n",
       "    </tr>\n",
       "    <tr>\n",
       "      <th>7</th>\n",
       "      <td>B33</td>\n",
       "      <td>70</td>\n",
       "      <td>Sicilian Defense\\n1.e4 c5 2.Nf3 Nc6 3.d4 cxd4 ...</td>\n",
       "      <td>0.017972</td>\n",
       "    </tr>\n",
       "    <tr>\n",
       "      <th>8</th>\n",
       "      <td>D37</td>\n",
       "      <td>66</td>\n",
       "      <td>QGD: 4.Nf3\\n1.d4 d5 2.c4 e6 3.Nc3 Nf6 4.Nf3 Be...</td>\n",
       "      <td>0.016945</td>\n",
       "    </tr>\n",
       "    <tr>\n",
       "      <th>9</th>\n",
       "      <td>B12</td>\n",
       "      <td>65</td>\n",
       "      <td>Caro-Kann Defense\\n1.e4 c6 2.d4 1/2</td>\n",
       "      <td>0.016688</td>\n",
       "    </tr>\n",
       "    <tr>\n",
       "      <th>10</th>\n",
       "      <td>C78</td>\n",
       "      <td>61</td>\n",
       "      <td>Ruy Lopez: (...b5...d6)\\n1.e4 e5 2.Nf3 Nc6 3.B...</td>\n",
       "      <td>0.015661</td>\n",
       "    </tr>\n",
       "    <tr>\n",
       "      <th>11</th>\n",
       "      <td>C11</td>\n",
       "      <td>48</td>\n",
       "      <td>French Defense\\n1.e4 e6 2.d4 d5 3.Nc3 Nf6 1/2</td>\n",
       "      <td>0.012323</td>\n",
       "    </tr>\n",
       "    <tr>\n",
       "      <th>12</th>\n",
       "      <td>E12</td>\n",
       "      <td>46</td>\n",
       "      <td>Queen's Indian Defense\\n1.d4 Nf6 2.c4 e6 3.Nf3...</td>\n",
       "      <td>0.011810</td>\n",
       "    </tr>\n",
       "    <tr>\n",
       "      <th>13</th>\n",
       "      <td>C53</td>\n",
       "      <td>41</td>\n",
       "      <td>Giuoco Piano\\n1.e4 e5 2.Nf3 Nc6 3.Bc4 Bc5 4.c3...</td>\n",
       "      <td>0.010526</td>\n",
       "    </tr>\n",
       "    <tr>\n",
       "      <th>14</th>\n",
       "      <td>D43</td>\n",
       "      <td>41</td>\n",
       "      <td>QGD: Semi-Slav\\n1.d4 d5 2.c4 e6 3.Nc3 Nf6 4.Nf...</td>\n",
       "      <td>0.010526</td>\n",
       "    </tr>\n",
       "    <tr>\n",
       "      <th>15</th>\n",
       "      <td>C89</td>\n",
       "      <td>39</td>\n",
       "      <td>Ruy Lopez: Marshall Counter-Attack\\n1.e4 e5 2....</td>\n",
       "      <td>0.010013</td>\n",
       "    </tr>\n",
       "    <tr>\n",
       "      <th>16</th>\n",
       "      <td>C10</td>\n",
       "      <td>39</td>\n",
       "      <td>French: Paulsen Variation\\n1.e4 e6 2.d4 d5 3.N...</td>\n",
       "      <td>0.010013</td>\n",
       "    </tr>\n",
       "    <tr>\n",
       "      <th>17</th>\n",
       "      <td>C84</td>\n",
       "      <td>38</td>\n",
       "      <td>Ruy Lopez: Closed Centre (5...b5) ; (subr fm C...</td>\n",
       "      <td>0.009756</td>\n",
       "    </tr>\n",
       "    <tr>\n",
       "      <th>18</th>\n",
       "      <td>B80</td>\n",
       "      <td>38</td>\n",
       "      <td>Sicilian: Scheveningen Variation\\n1.e4 c5 2.Nf...</td>\n",
       "      <td>0.009756</td>\n",
       "    </tr>\n",
       "    <tr>\n",
       "      <th>19</th>\n",
       "      <td>B31</td>\n",
       "      <td>37</td>\n",
       "      <td>Sicilian: Nimzovich-Rossolimo Attack ; (with.....</td>\n",
       "      <td>0.009499</td>\n",
       "    </tr>\n",
       "    <tr>\n",
       "      <th>20</th>\n",
       "      <td>B19</td>\n",
       "      <td>36</td>\n",
       "      <td>Caro-Kann: Classical: 7...Nd7\\n1.e4 c6 2.d4 d5...</td>\n",
       "      <td>0.009243</td>\n",
       "    </tr>\n",
       "    <tr>\n",
       "      <th>21</th>\n",
       "      <td>A07</td>\n",
       "      <td>36</td>\n",
       "      <td>Reti: King's Indian Attack (Barcza System)\\n1....</td>\n",
       "      <td>0.009243</td>\n",
       "    </tr>\n",
       "    <tr>\n",
       "      <th>22</th>\n",
       "      <td>C92</td>\n",
       "      <td>35</td>\n",
       "      <td>Ruy Lopez: Closed: 9.h3\\n1.e4 e5 2.Nf3 Nc6 3.B...</td>\n",
       "      <td>0.008986</td>\n",
       "    </tr>\n",
       "    <tr>\n",
       "      <th>23</th>\n",
       "      <td>B17</td>\n",
       "      <td>35</td>\n",
       "      <td>Caro-Kann: Smyslov Variation ; (extended) *pwo...</td>\n",
       "      <td>0.008986</td>\n",
       "    </tr>\n",
       "    <tr>\n",
       "      <th>24</th>\n",
       "      <td>D27</td>\n",
       "      <td>34</td>\n",
       "      <td>QGA: Classical: 6...a6\\n1.d4 d5 2.c4 dxc4 3.Nf...</td>\n",
       "      <td>0.008729</td>\n",
       "    </tr>\n",
       "    <tr>\n",
       "      <th>25</th>\n",
       "      <td>B92</td>\n",
       "      <td>34</td>\n",
       "      <td>Sicilian: Najdorf: Opovcensky Variation\\n1.e4 ...</td>\n",
       "      <td>0.008729</td>\n",
       "    </tr>\n",
       "    <tr>\n",
       "      <th>26</th>\n",
       "      <td>B85</td>\n",
       "      <td>33</td>\n",
       "      <td>Sicilian: Scheveningen: Classical Main Line ; ...</td>\n",
       "      <td>0.008472</td>\n",
       "    </tr>\n",
       "    <tr>\n",
       "      <th>27</th>\n",
       "      <td>B30</td>\n",
       "      <td>32</td>\n",
       "      <td>Sicilian Defense\\n1.e4 c5 2.Nf3 Nc6 1/2</td>\n",
       "      <td>0.008216</td>\n",
       "    </tr>\n",
       "    <tr>\n",
       "      <th>28</th>\n",
       "      <td>B48</td>\n",
       "      <td>30</td>\n",
       "      <td>Sicilian: Taimanov Variation ; (ext 6...a6) *p...</td>\n",
       "      <td>0.007702</td>\n",
       "    </tr>\n",
       "    <tr>\n",
       "      <th>29</th>\n",
       "      <td>D45</td>\n",
       "      <td>29</td>\n",
       "      <td>QGD: Semi-Slav: 5.e3\\n1.d4 d5 2.c4 e6 3.Nc3 Nf...</td>\n",
       "      <td>0.007445</td>\n",
       "    </tr>\n",
       "  </tbody>\n",
       "</table>\n",
       "</div>"
      ],
      "text/plain": [
       "    ECO  Frequency                                               desc  \\\n",
       "0   B90        152  Sicilian: Najdorf\\n1.e4 c5 2.Nf3 d6 3.d4 cxd4 ...   \n",
       "1   C42        127            Petrov's Defense\\n1.e4 e5 2.Nf3 Nf6 1/2   \n",
       "2   C65        120  Ruy Lopez: Berlin Defense\\n1.e4 e5 2.Nf3 Nc6 3...   \n",
       "3   C67        103  Ruy Lopez: Berlin Defense: Open Variation\\n1.e...   \n",
       "4   C50         87      King's Pawn Game\\n1.e4 e5 2.Nf3 Nc6 3.Bc4 1/2   \n",
       "5   E15         81  Queen's Indian: 4.g3\\n1.d4 Nf6 2.c4 e6 3.Nf3 b...   \n",
       "6   C88         72  Ruy Lopez: Closed: Balla Variation\\n1.e4 e5 2....   \n",
       "7   B33         70  Sicilian Defense\\n1.e4 c5 2.Nf3 Nc6 3.d4 cxd4 ...   \n",
       "8   D37         66  QGD: 4.Nf3\\n1.d4 d5 2.c4 e6 3.Nc3 Nf6 4.Nf3 Be...   \n",
       "9   B12         65                Caro-Kann Defense\\n1.e4 c6 2.d4 1/2   \n",
       "10  C78         61  Ruy Lopez: (...b5...d6)\\n1.e4 e5 2.Nf3 Nc6 3.B...   \n",
       "11  C11         48      French Defense\\n1.e4 e6 2.d4 d5 3.Nc3 Nf6 1/2   \n",
       "12  E12         46  Queen's Indian Defense\\n1.d4 Nf6 2.c4 e6 3.Nf3...   \n",
       "13  C53         41  Giuoco Piano\\n1.e4 e5 2.Nf3 Nc6 3.Bc4 Bc5 4.c3...   \n",
       "14  D43         41  QGD: Semi-Slav\\n1.d4 d5 2.c4 e6 3.Nc3 Nf6 4.Nf...   \n",
       "15  C89         39  Ruy Lopez: Marshall Counter-Attack\\n1.e4 e5 2....   \n",
       "16  C10         39  French: Paulsen Variation\\n1.e4 e6 2.d4 d5 3.N...   \n",
       "17  C84         38  Ruy Lopez: Closed Centre (5...b5) ; (subr fm C...   \n",
       "18  B80         38  Sicilian: Scheveningen Variation\\n1.e4 c5 2.Nf...   \n",
       "19  B31         37  Sicilian: Nimzovich-Rossolimo Attack ; (with.....   \n",
       "20  B19         36  Caro-Kann: Classical: 7...Nd7\\n1.e4 c6 2.d4 d5...   \n",
       "21  A07         36  Reti: King's Indian Attack (Barcza System)\\n1....   \n",
       "22  C92         35  Ruy Lopez: Closed: 9.h3\\n1.e4 e5 2.Nf3 Nc6 3.B...   \n",
       "23  B17         35  Caro-Kann: Smyslov Variation ; (extended) *pwo...   \n",
       "24  D27         34  QGA: Classical: 6...a6\\n1.d4 d5 2.c4 dxc4 3.Nf...   \n",
       "25  B92         34  Sicilian: Najdorf: Opovcensky Variation\\n1.e4 ...   \n",
       "26  B85         33  Sicilian: Scheveningen: Classical Main Line ; ...   \n",
       "27  B30         32            Sicilian Defense\\n1.e4 c5 2.Nf3 Nc6 1/2   \n",
       "28  B48         30  Sicilian: Taimanov Variation ; (ext 6...a6) *p...   \n",
       "29  D45         29  QGD: Semi-Slav: 5.e3\\n1.d4 d5 2.c4 e6 3.Nc3 Nf...   \n",
       "\n",
       "        perc  \n",
       "0   0.039024  \n",
       "1   0.032606  \n",
       "2   0.030809  \n",
       "3   0.026444  \n",
       "4   0.022336  \n",
       "5   0.020796  \n",
       "6   0.018485  \n",
       "7   0.017972  \n",
       "8   0.016945  \n",
       "9   0.016688  \n",
       "10  0.015661  \n",
       "11  0.012323  \n",
       "12  0.011810  \n",
       "13  0.010526  \n",
       "14  0.010526  \n",
       "15  0.010013  \n",
       "16  0.010013  \n",
       "17  0.009756  \n",
       "18  0.009756  \n",
       "19  0.009499  \n",
       "20  0.009243  \n",
       "21  0.009243  \n",
       "22  0.008986  \n",
       "23  0.008986  \n",
       "24  0.008729  \n",
       "25  0.008729  \n",
       "26  0.008472  \n",
       "27  0.008216  \n",
       "28  0.007702  \n",
       "29  0.007445  "
      ]
     },
     "execution_count": 55,
     "metadata": {},
     "output_type": "execute_result"
    }
   ],
   "source": [
    "df[\"desc\"]=df[\"ECO\"].map(getECOdesc)\n",
    "df[\"perc\"]=df[\"Frequency\"]/len(rawDf)\n",
    "df"
   ]
  },
  {
   "cell_type": "code",
   "execution_count": 58,
   "metadata": {},
   "outputs": [
    {
     "data": {
      "application/vnd.plotly.v1+json": {
       "config": {
        "plotlyServerURL": "https://plot.ly"
       },
       "data": [
        {
         "alignmentgroup": "True",
         "customdata": [
          [
           "Sicilian: Najdorf\n1.e4 c5 2.Nf3 d6 3.d4 cxd4 4.Nxd4 Nf6 5.Nc3 a6 1/2",
           0.03902439024390244
          ],
          [
           "Petrov's Defense\n1.e4 e5 2.Nf3 Nf6 1/2",
           0.03260590500641849
          ],
          [
           "Ruy Lopez: Berlin Defense\n1.e4 e5 2.Nf3 Nc6 3.Bb5 Nf6 1/2",
           0.03080872913992298
          ],
          [
           "Ruy Lopez: Berlin Defense: Open Variation\n1.e4 e5 2.Nf3 Nc6 3.Bb5 Nf6 4.O-O Nxe4 1/2",
           0.02644415917843389
          ],
          [
           "King's Pawn Game\n1.e4 e5 2.Nf3 Nc6 3.Bc4 1/2",
           0.02233632862644416
          ],
          [
           "Queen's Indian: 4.g3\n1.d4 Nf6 2.c4 e6 3.Nf3 b6 4.g3 1/2",
           0.02079589216944801
          ],
          [
           "Ruy Lopez: Closed: Balla Variation\n1.e4 e5 2.Nf3 Nc6 3.Bb5 a6 4.Ba4 Nf6 5.O-O Be7 6.Re1 b5 7.Bb3 d6 8.c3 Na5\n9.Bc2 c5 10.d4 Qc7 11.a4 1/2",
           0.01848523748395379
          ],
          [
           "Sicilian Defense\n1.e4 c5 2.Nf3 Nc6 3.d4 cxd4 4.Nxd4 Nf6 1/2",
           0.01797175866495507
          ],
          [
           "QGD: 4.Nf3\n1.d4 d5 2.c4 e6 3.Nc3 Nf6 4.Nf3 Be7 1/2",
           0.016944801026957636
          ],
          [
           "Caro-Kann Defense\n1.e4 c6 2.d4 1/2",
           0.01668806161745828
          ],
          [
           "Ruy Lopez: (...b5...d6)\n1.e4 e5 2.Nf3 Nc6 3.Bb5 a6 4.Ba4 Nf6 5.O-O b5 6.Bb3 d6 1/2",
           0.01566110397946085
          ],
          [
           "French Defense\n1.e4 e6 2.d4 d5 3.Nc3 Nf6 1/2",
           0.012323491655969191
          ],
          [
           "Queen's Indian Defense\n1.d4 Nf6 2.c4 e6 3.Nf3 b6 1/2",
           0.011810012836970476
          ],
          [
           "Giuoco Piano\n1.e4 e5 2.Nf3 Nc6 3.Bc4 Bc5 4.c3 1/2",
           0.010526315789473684
          ],
          [
           "QGD: Semi-Slav\n1.d4 d5 2.c4 e6 3.Nc3 Nf6 4.Nf3 c6 1/2",
           0.010526315789473684
          ],
          [
           "Ruy Lopez: Marshall Counter-Attack\n1.e4 e5 2.Nf3 Nc6 3.Bb5 a6 4.Ba4 Nf6 5.O-O Be7 6.Re1 b5 7.Bb3 O-O 8.c3 d5\n1/2",
           0.010012836970474968
          ],
          [
           "French: Paulsen Variation\n1.e4 e6 2.d4 d5 3.Nc3 1/2",
           0.010012836970474968
          ],
          [
           "Ruy Lopez: Closed Centre (5...b5) ; (subr fm C78) *pwo\n1.e4 e5 2.Nf3 Nc6 3.Bb5 a6 4.Ba4 Nf6 5.O-O b5 6.Bb3 Be7 7.Nc3 1/2",
           0.00975609756097561
          ],
          [
           "Sicilian: Scheveningen Variation\n1.e4 c5 2.Nf3 d6 3.d4 cxd4 4.Nxd4 Nf6 5.Nc3 e6 1/2",
           0.00975609756097561
          ],
          [
           "Sicilian: Nimzovich-Rossolimo Attack ; (with...g6, without...d6)\n1.e4 c5 2.Nf3 Nc6 3.Bb5 g6 1/2",
           0.009499358151476251
          ],
          [
           "Caro-Kann: Classical: 7...Nd7\n1.e4 c6 2.d4 d5 3.Nc3 dxe4 4.Nxe4 Bf5 5.Ng3 Bg6 6.h4 h6 7.Nf3 Nd7 1/2",
           0.009242618741976894
          ],
          [
           "Reti: King's Indian Attack (Barcza System)\n1.Nf3 d5 2.g3 1/2",
           0.009242618741976894
          ],
          [
           "Ruy Lopez: Closed: 9.h3\n1.e4 e5 2.Nf3 Nc6 3.Bb5 a6 4.Ba4 Nf6 5.O-O Be7 6.Re1 b5 7.Bb3 O-O 8.c3 d6\n9.h3 1/2",
           0.008985879332477536
          ],
          [
           "Caro-Kann: Smyslov Variation ; (extended) *pwo (was Steinitz var)\n1.e4 c6 2.d4 d5 3.Nc3 dxe4 4.Nxe4 Nd7 5.Bc4 Ngf6 6.Ng5 e6 7.Qe2 Nb6 1/2",
           0.008985879332477536
          ],
          [
           "QGA: Classical: 6...a6\n1.d4 d5 2.c4 dxc4 3.Nf3 Nf6 4.e3 e6 5.Bxc4 c5 6.O-O a6 1/2",
           0.008729139922978177
          ],
          [
           "Sicilian: Najdorf: Opovcensky Variation\n1.e4 c5 2.Nf3 d6 3.d4 cxd4 4.Nxd4 Nf6 5.Nc3 a6 6.Be2 1/2",
           0.008729139922978177
          ],
          [
           "Sicilian: Scheveningen: Classical Main Line ; main book Line (pwo)\n1.e4 c5 2.Nf3 d6 3.d4 cxd4 4.Nxd4 Nf6 5.Nc3 e6 6.Be2 a6 7.O-O Be7 8.f4 O-O\n9.Be3 1/2",
           0.008472400513478818
          ],
          [
           "Sicilian Defense\n1.e4 c5 2.Nf3 Nc6 1/2",
           0.008215661103979461
          ],
          [
           "Sicilian: Taimanov Variation ; (ext 6...a6) *pwo\n1.e4 c5 2.Nf3 e6 3.d4 cxd4 4.Nxd4 Nc6 5.Nc3 Qc7 6.Be3 a6 1/2",
           0.007702182284980745
          ],
          [
           "QGD: Semi-Slav: 5.e3\n1.d4 d5 2.c4 e6 3.Nc3 Nf6 4.Nf3 c6 5.e3 1/2",
           0.007445442875481386
          ]
         ],
         "hovertemplate": "ECO (opening code)=%{x}<br>Frequency=%{marker.color}<br>desc=%{customdata[0]}<br>Ratio=%{customdata[1]}<extra></extra>",
         "legendgroup": "",
         "marker": {
          "color": [
           152,
           127,
           120,
           103,
           87,
           81,
           72,
           70,
           66,
           65,
           61,
           48,
           46,
           41,
           41,
           39,
           39,
           38,
           38,
           37,
           36,
           36,
           35,
           35,
           34,
           34,
           33,
           32,
           30,
           29
          ],
          "coloraxis": "coloraxis"
         },
         "name": "",
         "offsetgroup": "",
         "orientation": "v",
         "showlegend": false,
         "textposition": "auto",
         "type": "bar",
         "x": [
          "B90",
          "C42",
          "C65",
          "C67",
          "C50",
          "E15",
          "C88",
          "B33",
          "D37",
          "B12",
          "C78",
          "C11",
          "E12",
          "C53",
          "D43",
          "C89",
          "C10",
          "C84",
          "B80",
          "B31",
          "B19",
          "A07",
          "C92",
          "B17",
          "D27",
          "B92",
          "B85",
          "B30",
          "B48",
          "D45"
         ],
         "xaxis": "x",
         "y": [
          152,
          127,
          120,
          103,
          87,
          81,
          72,
          70,
          66,
          65,
          61,
          48,
          46,
          41,
          41,
          39,
          39,
          38,
          38,
          37,
          36,
          36,
          35,
          35,
          34,
          34,
          33,
          32,
          30,
          29
         ],
         "yaxis": "y"
        }
       ],
       "layout": {
        "barmode": "relative",
        "coloraxis": {
         "colorbar": {
          "title": {
           "text": "Frequency"
          }
         },
         "colorscale": [
          [
           0,
           "rgb(5,48,97)"
          ],
          [
           0.1,
           "rgb(33,102,172)"
          ],
          [
           0.2,
           "rgb(67,147,195)"
          ],
          [
           0.3,
           "rgb(146,197,222)"
          ],
          [
           0.4,
           "rgb(209,229,240)"
          ],
          [
           0.5,
           "rgb(247,247,247)"
          ],
          [
           0.6,
           "rgb(253,219,199)"
          ],
          [
           0.7,
           "rgb(244,165,130)"
          ],
          [
           0.8,
           "rgb(214,96,77)"
          ],
          [
           0.9,
           "rgb(178,24,43)"
          ],
          [
           1,
           "rgb(103,0,31)"
          ]
         ]
        },
        "height": 400,
        "legend": {
         "tracegroupgap": 0
        },
        "template": {
         "data": {
          "bar": [
           {
            "error_x": {
             "color": "#2a3f5f"
            },
            "error_y": {
             "color": "#2a3f5f"
            },
            "marker": {
             "line": {
              "color": "#E5ECF6",
              "width": 0.5
             }
            },
            "type": "bar"
           }
          ],
          "barpolar": [
           {
            "marker": {
             "line": {
              "color": "#E5ECF6",
              "width": 0.5
             }
            },
            "type": "barpolar"
           }
          ],
          "carpet": [
           {
            "aaxis": {
             "endlinecolor": "#2a3f5f",
             "gridcolor": "white",
             "linecolor": "white",
             "minorgridcolor": "white",
             "startlinecolor": "#2a3f5f"
            },
            "baxis": {
             "endlinecolor": "#2a3f5f",
             "gridcolor": "white",
             "linecolor": "white",
             "minorgridcolor": "white",
             "startlinecolor": "#2a3f5f"
            },
            "type": "carpet"
           }
          ],
          "choropleth": [
           {
            "colorbar": {
             "outlinewidth": 0,
             "ticks": ""
            },
            "type": "choropleth"
           }
          ],
          "contour": [
           {
            "colorbar": {
             "outlinewidth": 0,
             "ticks": ""
            },
            "colorscale": [
             [
              0,
              "#0d0887"
             ],
             [
              0.1111111111111111,
              "#46039f"
             ],
             [
              0.2222222222222222,
              "#7201a8"
             ],
             [
              0.3333333333333333,
              "#9c179e"
             ],
             [
              0.4444444444444444,
              "#bd3786"
             ],
             [
              0.5555555555555556,
              "#d8576b"
             ],
             [
              0.6666666666666666,
              "#ed7953"
             ],
             [
              0.7777777777777778,
              "#fb9f3a"
             ],
             [
              0.8888888888888888,
              "#fdca26"
             ],
             [
              1,
              "#f0f921"
             ]
            ],
            "type": "contour"
           }
          ],
          "contourcarpet": [
           {
            "colorbar": {
             "outlinewidth": 0,
             "ticks": ""
            },
            "type": "contourcarpet"
           }
          ],
          "heatmap": [
           {
            "colorbar": {
             "outlinewidth": 0,
             "ticks": ""
            },
            "colorscale": [
             [
              0,
              "#0d0887"
             ],
             [
              0.1111111111111111,
              "#46039f"
             ],
             [
              0.2222222222222222,
              "#7201a8"
             ],
             [
              0.3333333333333333,
              "#9c179e"
             ],
             [
              0.4444444444444444,
              "#bd3786"
             ],
             [
              0.5555555555555556,
              "#d8576b"
             ],
             [
              0.6666666666666666,
              "#ed7953"
             ],
             [
              0.7777777777777778,
              "#fb9f3a"
             ],
             [
              0.8888888888888888,
              "#fdca26"
             ],
             [
              1,
              "#f0f921"
             ]
            ],
            "type": "heatmap"
           }
          ],
          "heatmapgl": [
           {
            "colorbar": {
             "outlinewidth": 0,
             "ticks": ""
            },
            "colorscale": [
             [
              0,
              "#0d0887"
             ],
             [
              0.1111111111111111,
              "#46039f"
             ],
             [
              0.2222222222222222,
              "#7201a8"
             ],
             [
              0.3333333333333333,
              "#9c179e"
             ],
             [
              0.4444444444444444,
              "#bd3786"
             ],
             [
              0.5555555555555556,
              "#d8576b"
             ],
             [
              0.6666666666666666,
              "#ed7953"
             ],
             [
              0.7777777777777778,
              "#fb9f3a"
             ],
             [
              0.8888888888888888,
              "#fdca26"
             ],
             [
              1,
              "#f0f921"
             ]
            ],
            "type": "heatmapgl"
           }
          ],
          "histogram": [
           {
            "marker": {
             "colorbar": {
              "outlinewidth": 0,
              "ticks": ""
             }
            },
            "type": "histogram"
           }
          ],
          "histogram2d": [
           {
            "colorbar": {
             "outlinewidth": 0,
             "ticks": ""
            },
            "colorscale": [
             [
              0,
              "#0d0887"
             ],
             [
              0.1111111111111111,
              "#46039f"
             ],
             [
              0.2222222222222222,
              "#7201a8"
             ],
             [
              0.3333333333333333,
              "#9c179e"
             ],
             [
              0.4444444444444444,
              "#bd3786"
             ],
             [
              0.5555555555555556,
              "#d8576b"
             ],
             [
              0.6666666666666666,
              "#ed7953"
             ],
             [
              0.7777777777777778,
              "#fb9f3a"
             ],
             [
              0.8888888888888888,
              "#fdca26"
             ],
             [
              1,
              "#f0f921"
             ]
            ],
            "type": "histogram2d"
           }
          ],
          "histogram2dcontour": [
           {
            "colorbar": {
             "outlinewidth": 0,
             "ticks": ""
            },
            "colorscale": [
             [
              0,
              "#0d0887"
             ],
             [
              0.1111111111111111,
              "#46039f"
             ],
             [
              0.2222222222222222,
              "#7201a8"
             ],
             [
              0.3333333333333333,
              "#9c179e"
             ],
             [
              0.4444444444444444,
              "#bd3786"
             ],
             [
              0.5555555555555556,
              "#d8576b"
             ],
             [
              0.6666666666666666,
              "#ed7953"
             ],
             [
              0.7777777777777778,
              "#fb9f3a"
             ],
             [
              0.8888888888888888,
              "#fdca26"
             ],
             [
              1,
              "#f0f921"
             ]
            ],
            "type": "histogram2dcontour"
           }
          ],
          "mesh3d": [
           {
            "colorbar": {
             "outlinewidth": 0,
             "ticks": ""
            },
            "type": "mesh3d"
           }
          ],
          "parcoords": [
           {
            "line": {
             "colorbar": {
              "outlinewidth": 0,
              "ticks": ""
             }
            },
            "type": "parcoords"
           }
          ],
          "pie": [
           {
            "automargin": true,
            "type": "pie"
           }
          ],
          "scatter": [
           {
            "marker": {
             "colorbar": {
              "outlinewidth": 0,
              "ticks": ""
             }
            },
            "type": "scatter"
           }
          ],
          "scatter3d": [
           {
            "line": {
             "colorbar": {
              "outlinewidth": 0,
              "ticks": ""
             }
            },
            "marker": {
             "colorbar": {
              "outlinewidth": 0,
              "ticks": ""
             }
            },
            "type": "scatter3d"
           }
          ],
          "scattercarpet": [
           {
            "marker": {
             "colorbar": {
              "outlinewidth": 0,
              "ticks": ""
             }
            },
            "type": "scattercarpet"
           }
          ],
          "scattergeo": [
           {
            "marker": {
             "colorbar": {
              "outlinewidth": 0,
              "ticks": ""
             }
            },
            "type": "scattergeo"
           }
          ],
          "scattergl": [
           {
            "marker": {
             "colorbar": {
              "outlinewidth": 0,
              "ticks": ""
             }
            },
            "type": "scattergl"
           }
          ],
          "scattermapbox": [
           {
            "marker": {
             "colorbar": {
              "outlinewidth": 0,
              "ticks": ""
             }
            },
            "type": "scattermapbox"
           }
          ],
          "scatterpolar": [
           {
            "marker": {
             "colorbar": {
              "outlinewidth": 0,
              "ticks": ""
             }
            },
            "type": "scatterpolar"
           }
          ],
          "scatterpolargl": [
           {
            "marker": {
             "colorbar": {
              "outlinewidth": 0,
              "ticks": ""
             }
            },
            "type": "scatterpolargl"
           }
          ],
          "scatterternary": [
           {
            "marker": {
             "colorbar": {
              "outlinewidth": 0,
              "ticks": ""
             }
            },
            "type": "scatterternary"
           }
          ],
          "surface": [
           {
            "colorbar": {
             "outlinewidth": 0,
             "ticks": ""
            },
            "colorscale": [
             [
              0,
              "#0d0887"
             ],
             [
              0.1111111111111111,
              "#46039f"
             ],
             [
              0.2222222222222222,
              "#7201a8"
             ],
             [
              0.3333333333333333,
              "#9c179e"
             ],
             [
              0.4444444444444444,
              "#bd3786"
             ],
             [
              0.5555555555555556,
              "#d8576b"
             ],
             [
              0.6666666666666666,
              "#ed7953"
             ],
             [
              0.7777777777777778,
              "#fb9f3a"
             ],
             [
              0.8888888888888888,
              "#fdca26"
             ],
             [
              1,
              "#f0f921"
             ]
            ],
            "type": "surface"
           }
          ],
          "table": [
           {
            "cells": {
             "fill": {
              "color": "#EBF0F8"
             },
             "line": {
              "color": "white"
             }
            },
            "header": {
             "fill": {
              "color": "#C8D4E3"
             },
             "line": {
              "color": "white"
             }
            },
            "type": "table"
           }
          ]
         },
         "layout": {
          "annotationdefaults": {
           "arrowcolor": "#2a3f5f",
           "arrowhead": 0,
           "arrowwidth": 1
          },
          "autotypenumbers": "strict",
          "coloraxis": {
           "colorbar": {
            "outlinewidth": 0,
            "ticks": ""
           }
          },
          "colorscale": {
           "diverging": [
            [
             0,
             "#8e0152"
            ],
            [
             0.1,
             "#c51b7d"
            ],
            [
             0.2,
             "#de77ae"
            ],
            [
             0.3,
             "#f1b6da"
            ],
            [
             0.4,
             "#fde0ef"
            ],
            [
             0.5,
             "#f7f7f7"
            ],
            [
             0.6,
             "#e6f5d0"
            ],
            [
             0.7,
             "#b8e186"
            ],
            [
             0.8,
             "#7fbc41"
            ],
            [
             0.9,
             "#4d9221"
            ],
            [
             1,
             "#276419"
            ]
           ],
           "sequential": [
            [
             0,
             "#0d0887"
            ],
            [
             0.1111111111111111,
             "#46039f"
            ],
            [
             0.2222222222222222,
             "#7201a8"
            ],
            [
             0.3333333333333333,
             "#9c179e"
            ],
            [
             0.4444444444444444,
             "#bd3786"
            ],
            [
             0.5555555555555556,
             "#d8576b"
            ],
            [
             0.6666666666666666,
             "#ed7953"
            ],
            [
             0.7777777777777778,
             "#fb9f3a"
            ],
            [
             0.8888888888888888,
             "#fdca26"
            ],
            [
             1,
             "#f0f921"
            ]
           ],
           "sequentialminus": [
            [
             0,
             "#0d0887"
            ],
            [
             0.1111111111111111,
             "#46039f"
            ],
            [
             0.2222222222222222,
             "#7201a8"
            ],
            [
             0.3333333333333333,
             "#9c179e"
            ],
            [
             0.4444444444444444,
             "#bd3786"
            ],
            [
             0.5555555555555556,
             "#d8576b"
            ],
            [
             0.6666666666666666,
             "#ed7953"
            ],
            [
             0.7777777777777778,
             "#fb9f3a"
            ],
            [
             0.8888888888888888,
             "#fdca26"
            ],
            [
             1,
             "#f0f921"
            ]
           ]
          },
          "colorway": [
           "#636efa",
           "#EF553B",
           "#00cc96",
           "#ab63fa",
           "#FFA15A",
           "#19d3f3",
           "#FF6692",
           "#B6E880",
           "#FF97FF",
           "#FECB52"
          ],
          "font": {
           "color": "#2a3f5f"
          },
          "geo": {
           "bgcolor": "white",
           "lakecolor": "white",
           "landcolor": "#E5ECF6",
           "showlakes": true,
           "showland": true,
           "subunitcolor": "white"
          },
          "hoverlabel": {
           "align": "left"
          },
          "hovermode": "closest",
          "mapbox": {
           "style": "light"
          },
          "paper_bgcolor": "white",
          "plot_bgcolor": "#E5ECF6",
          "polar": {
           "angularaxis": {
            "gridcolor": "white",
            "linecolor": "white",
            "ticks": ""
           },
           "bgcolor": "#E5ECF6",
           "radialaxis": {
            "gridcolor": "white",
            "linecolor": "white",
            "ticks": ""
           }
          },
          "scene": {
           "xaxis": {
            "backgroundcolor": "#E5ECF6",
            "gridcolor": "white",
            "gridwidth": 2,
            "linecolor": "white",
            "showbackground": true,
            "ticks": "",
            "zerolinecolor": "white"
           },
           "yaxis": {
            "backgroundcolor": "#E5ECF6",
            "gridcolor": "white",
            "gridwidth": 2,
            "linecolor": "white",
            "showbackground": true,
            "ticks": "",
            "zerolinecolor": "white"
           },
           "zaxis": {
            "backgroundcolor": "#E5ECF6",
            "gridcolor": "white",
            "gridwidth": 2,
            "linecolor": "white",
            "showbackground": true,
            "ticks": "",
            "zerolinecolor": "white"
           }
          },
          "shapedefaults": {
           "line": {
            "color": "#2a3f5f"
           }
          },
          "ternary": {
           "aaxis": {
            "gridcolor": "white",
            "linecolor": "white",
            "ticks": ""
           },
           "baxis": {
            "gridcolor": "white",
            "linecolor": "white",
            "ticks": ""
           },
           "bgcolor": "#E5ECF6",
           "caxis": {
            "gridcolor": "white",
            "linecolor": "white",
            "ticks": ""
           }
          },
          "title": {
           "x": 0.05
          },
          "xaxis": {
           "automargin": true,
           "gridcolor": "white",
           "linecolor": "white",
           "ticks": "",
           "title": {
            "standoff": 15
           },
           "zerolinecolor": "white",
           "zerolinewidth": 2
          },
          "yaxis": {
           "automargin": true,
           "gridcolor": "white",
           "linecolor": "white",
           "ticks": "",
           "title": {
            "standoff": 15
           },
           "zerolinecolor": "white",
           "zerolinewidth": 2
          }
         }
        },
        "title": {
         "text": "Top-30 openings of Anand"
        },
        "xaxis": {
         "anchor": "y",
         "domain": [
          0,
          1
         ],
         "title": {
          "text": "ECO (opening code)"
         }
        },
        "yaxis": {
         "anchor": "x",
         "domain": [
          0,
          1
         ],
         "title": {
          "text": "Frequency"
         }
        }
       }
      },
      "text/html": [
       "<div>                            <div id=\"a18eb387-a6a1-4b54-8330-0d8ad9f54cef\" class=\"plotly-graph-div\" style=\"height:400px; width:100%;\"></div>            <script type=\"text/javascript\">                require([\"plotly\"], function(Plotly) {                    window.PLOTLYENV=window.PLOTLYENV || {};                                    if (document.getElementById(\"a18eb387-a6a1-4b54-8330-0d8ad9f54cef\")) {                    Plotly.newPlot(                        \"a18eb387-a6a1-4b54-8330-0d8ad9f54cef\",                        [{\"alignmentgroup\": \"True\", \"customdata\": [[\"Sicilian: Najdorf\\n1.e4 c5 2.Nf3 d6 3.d4 cxd4 4.Nxd4 Nf6 5.Nc3 a6 1/2\", 0.03902439024390244], [\"Petrov's Defense\\n1.e4 e5 2.Nf3 Nf6 1/2\", 0.03260590500641849], [\"Ruy Lopez: Berlin Defense\\n1.e4 e5 2.Nf3 Nc6 3.Bb5 Nf6 1/2\", 0.03080872913992298], [\"Ruy Lopez: Berlin Defense: Open Variation\\n1.e4 e5 2.Nf3 Nc6 3.Bb5 Nf6 4.O-O Nxe4 1/2\", 0.02644415917843389], [\"King's Pawn Game\\n1.e4 e5 2.Nf3 Nc6 3.Bc4 1/2\", 0.02233632862644416], [\"Queen's Indian: 4.g3\\n1.d4 Nf6 2.c4 e6 3.Nf3 b6 4.g3 1/2\", 0.02079589216944801], [\"Ruy Lopez: Closed: Balla Variation\\n1.e4 e5 2.Nf3 Nc6 3.Bb5 a6 4.Ba4 Nf6 5.O-O Be7 6.Re1 b5 7.Bb3 d6 8.c3 Na5\\n9.Bc2 c5 10.d4 Qc7 11.a4 1/2\", 0.01848523748395379], [\"Sicilian Defense\\n1.e4 c5 2.Nf3 Nc6 3.d4 cxd4 4.Nxd4 Nf6 1/2\", 0.01797175866495507], [\"QGD: 4.Nf3\\n1.d4 d5 2.c4 e6 3.Nc3 Nf6 4.Nf3 Be7 1/2\", 0.016944801026957636], [\"Caro-Kann Defense\\n1.e4 c6 2.d4 1/2\", 0.01668806161745828], [\"Ruy Lopez: (...b5...d6)\\n1.e4 e5 2.Nf3 Nc6 3.Bb5 a6 4.Ba4 Nf6 5.O-O b5 6.Bb3 d6 1/2\", 0.01566110397946085], [\"French Defense\\n1.e4 e6 2.d4 d5 3.Nc3 Nf6 1/2\", 0.012323491655969191], [\"Queen's Indian Defense\\n1.d4 Nf6 2.c4 e6 3.Nf3 b6 1/2\", 0.011810012836970476], [\"Giuoco Piano\\n1.e4 e5 2.Nf3 Nc6 3.Bc4 Bc5 4.c3 1/2\", 0.010526315789473684], [\"QGD: Semi-Slav\\n1.d4 d5 2.c4 e6 3.Nc3 Nf6 4.Nf3 c6 1/2\", 0.010526315789473684], [\"Ruy Lopez: Marshall Counter-Attack\\n1.e4 e5 2.Nf3 Nc6 3.Bb5 a6 4.Ba4 Nf6 5.O-O Be7 6.Re1 b5 7.Bb3 O-O 8.c3 d5\\n1/2\", 0.010012836970474968], [\"French: Paulsen Variation\\n1.e4 e6 2.d4 d5 3.Nc3 1/2\", 0.010012836970474968], [\"Ruy Lopez: Closed Centre (5...b5) ; (subr fm C78) *pwo\\n1.e4 e5 2.Nf3 Nc6 3.Bb5 a6 4.Ba4 Nf6 5.O-O b5 6.Bb3 Be7 7.Nc3 1/2\", 0.00975609756097561], [\"Sicilian: Scheveningen Variation\\n1.e4 c5 2.Nf3 d6 3.d4 cxd4 4.Nxd4 Nf6 5.Nc3 e6 1/2\", 0.00975609756097561], [\"Sicilian: Nimzovich-Rossolimo Attack ; (with...g6, without...d6)\\n1.e4 c5 2.Nf3 Nc6 3.Bb5 g6 1/2\", 0.009499358151476251], [\"Caro-Kann: Classical: 7...Nd7\\n1.e4 c6 2.d4 d5 3.Nc3 dxe4 4.Nxe4 Bf5 5.Ng3 Bg6 6.h4 h6 7.Nf3 Nd7 1/2\", 0.009242618741976894], [\"Reti: King's Indian Attack (Barcza System)\\n1.Nf3 d5 2.g3 1/2\", 0.009242618741976894], [\"Ruy Lopez: Closed: 9.h3\\n1.e4 e5 2.Nf3 Nc6 3.Bb5 a6 4.Ba4 Nf6 5.O-O Be7 6.Re1 b5 7.Bb3 O-O 8.c3 d6\\n9.h3 1/2\", 0.008985879332477536], [\"Caro-Kann: Smyslov Variation ; (extended) *pwo (was Steinitz var)\\n1.e4 c6 2.d4 d5 3.Nc3 dxe4 4.Nxe4 Nd7 5.Bc4 Ngf6 6.Ng5 e6 7.Qe2 Nb6 1/2\", 0.008985879332477536], [\"QGA: Classical: 6...a6\\n1.d4 d5 2.c4 dxc4 3.Nf3 Nf6 4.e3 e6 5.Bxc4 c5 6.O-O a6 1/2\", 0.008729139922978177], [\"Sicilian: Najdorf: Opovcensky Variation\\n1.e4 c5 2.Nf3 d6 3.d4 cxd4 4.Nxd4 Nf6 5.Nc3 a6 6.Be2 1/2\", 0.008729139922978177], [\"Sicilian: Scheveningen: Classical Main Line ; main book Line (pwo)\\n1.e4 c5 2.Nf3 d6 3.d4 cxd4 4.Nxd4 Nf6 5.Nc3 e6 6.Be2 a6 7.O-O Be7 8.f4 O-O\\n9.Be3 1/2\", 0.008472400513478818], [\"Sicilian Defense\\n1.e4 c5 2.Nf3 Nc6 1/2\", 0.008215661103979461], [\"Sicilian: Taimanov Variation ; (ext 6...a6) *pwo\\n1.e4 c5 2.Nf3 e6 3.d4 cxd4 4.Nxd4 Nc6 5.Nc3 Qc7 6.Be3 a6 1/2\", 0.007702182284980745], [\"QGD: Semi-Slav: 5.e3\\n1.d4 d5 2.c4 e6 3.Nc3 Nf6 4.Nf3 c6 5.e3 1/2\", 0.007445442875481386]], \"hovertemplate\": \"ECO (opening code)=%{x}<br>Frequency=%{marker.color}<br>desc=%{customdata[0]}<br>Ratio=%{customdata[1]}<extra></extra>\", \"legendgroup\": \"\", \"marker\": {\"color\": [152, 127, 120, 103, 87, 81, 72, 70, 66, 65, 61, 48, 46, 41, 41, 39, 39, 38, 38, 37, 36, 36, 35, 35, 34, 34, 33, 32, 30, 29], \"coloraxis\": \"coloraxis\"}, \"name\": \"\", \"offsetgroup\": \"\", \"orientation\": \"v\", \"showlegend\": false, \"textposition\": \"auto\", \"type\": \"bar\", \"x\": [\"B90\", \"C42\", \"C65\", \"C67\", \"C50\", \"E15\", \"C88\", \"B33\", \"D37\", \"B12\", \"C78\", \"C11\", \"E12\", \"C53\", \"D43\", \"C89\", \"C10\", \"C84\", \"B80\", \"B31\", \"B19\", \"A07\", \"C92\", \"B17\", \"D27\", \"B92\", \"B85\", \"B30\", \"B48\", \"D45\"], \"xaxis\": \"x\", \"y\": [152, 127, 120, 103, 87, 81, 72, 70, 66, 65, 61, 48, 46, 41, 41, 39, 39, 38, 38, 37, 36, 36, 35, 35, 34, 34, 33, 32, 30, 29], \"yaxis\": \"y\"}],                        {\"barmode\": \"relative\", \"coloraxis\": {\"colorbar\": {\"title\": {\"text\": \"Frequency\"}}, \"colorscale\": [[0.0, \"rgb(5,48,97)\"], [0.1, \"rgb(33,102,172)\"], [0.2, \"rgb(67,147,195)\"], [0.3, \"rgb(146,197,222)\"], [0.4, \"rgb(209,229,240)\"], [0.5, \"rgb(247,247,247)\"], [0.6, \"rgb(253,219,199)\"], [0.7, \"rgb(244,165,130)\"], [0.8, \"rgb(214,96,77)\"], [0.9, \"rgb(178,24,43)\"], [1.0, \"rgb(103,0,31)\"]]}, \"height\": 400, \"legend\": {\"tracegroupgap\": 0}, \"template\": {\"data\": {\"bar\": [{\"error_x\": {\"color\": \"#2a3f5f\"}, \"error_y\": {\"color\": \"#2a3f5f\"}, \"marker\": {\"line\": {\"color\": \"#E5ECF6\", \"width\": 0.5}}, \"type\": \"bar\"}], \"barpolar\": [{\"marker\": {\"line\": {\"color\": \"#E5ECF6\", \"width\": 0.5}}, \"type\": \"barpolar\"}], \"carpet\": [{\"aaxis\": {\"endlinecolor\": \"#2a3f5f\", \"gridcolor\": \"white\", \"linecolor\": \"white\", \"minorgridcolor\": \"white\", \"startlinecolor\": \"#2a3f5f\"}, \"baxis\": {\"endlinecolor\": \"#2a3f5f\", \"gridcolor\": \"white\", \"linecolor\": \"white\", \"minorgridcolor\": \"white\", \"startlinecolor\": \"#2a3f5f\"}, \"type\": \"carpet\"}], \"choropleth\": [{\"colorbar\": {\"outlinewidth\": 0, \"ticks\": \"\"}, \"type\": \"choropleth\"}], \"contour\": [{\"colorbar\": {\"outlinewidth\": 0, \"ticks\": \"\"}, \"colorscale\": [[0.0, \"#0d0887\"], [0.1111111111111111, \"#46039f\"], [0.2222222222222222, \"#7201a8\"], [0.3333333333333333, \"#9c179e\"], [0.4444444444444444, \"#bd3786\"], [0.5555555555555556, \"#d8576b\"], [0.6666666666666666, \"#ed7953\"], [0.7777777777777778, \"#fb9f3a\"], [0.8888888888888888, \"#fdca26\"], [1.0, \"#f0f921\"]], \"type\": \"contour\"}], \"contourcarpet\": [{\"colorbar\": {\"outlinewidth\": 0, \"ticks\": \"\"}, \"type\": \"contourcarpet\"}], \"heatmap\": [{\"colorbar\": {\"outlinewidth\": 0, \"ticks\": \"\"}, \"colorscale\": [[0.0, \"#0d0887\"], [0.1111111111111111, \"#46039f\"], [0.2222222222222222, \"#7201a8\"], [0.3333333333333333, \"#9c179e\"], [0.4444444444444444, \"#bd3786\"], [0.5555555555555556, \"#d8576b\"], [0.6666666666666666, \"#ed7953\"], [0.7777777777777778, \"#fb9f3a\"], [0.8888888888888888, \"#fdca26\"], [1.0, \"#f0f921\"]], \"type\": \"heatmap\"}], \"heatmapgl\": [{\"colorbar\": {\"outlinewidth\": 0, \"ticks\": \"\"}, \"colorscale\": [[0.0, \"#0d0887\"], [0.1111111111111111, \"#46039f\"], [0.2222222222222222, \"#7201a8\"], [0.3333333333333333, \"#9c179e\"], [0.4444444444444444, \"#bd3786\"], [0.5555555555555556, \"#d8576b\"], [0.6666666666666666, \"#ed7953\"], [0.7777777777777778, \"#fb9f3a\"], [0.8888888888888888, \"#fdca26\"], [1.0, \"#f0f921\"]], \"type\": \"heatmapgl\"}], \"histogram\": [{\"marker\": {\"colorbar\": {\"outlinewidth\": 0, \"ticks\": \"\"}}, \"type\": \"histogram\"}], \"histogram2d\": [{\"colorbar\": {\"outlinewidth\": 0, \"ticks\": \"\"}, \"colorscale\": [[0.0, \"#0d0887\"], [0.1111111111111111, \"#46039f\"], [0.2222222222222222, \"#7201a8\"], [0.3333333333333333, \"#9c179e\"], [0.4444444444444444, \"#bd3786\"], [0.5555555555555556, \"#d8576b\"], [0.6666666666666666, \"#ed7953\"], [0.7777777777777778, \"#fb9f3a\"], [0.8888888888888888, \"#fdca26\"], [1.0, \"#f0f921\"]], \"type\": \"histogram2d\"}], \"histogram2dcontour\": [{\"colorbar\": {\"outlinewidth\": 0, \"ticks\": \"\"}, \"colorscale\": [[0.0, \"#0d0887\"], [0.1111111111111111, \"#46039f\"], [0.2222222222222222, \"#7201a8\"], [0.3333333333333333, \"#9c179e\"], [0.4444444444444444, \"#bd3786\"], [0.5555555555555556, \"#d8576b\"], [0.6666666666666666, \"#ed7953\"], [0.7777777777777778, \"#fb9f3a\"], [0.8888888888888888, \"#fdca26\"], [1.0, \"#f0f921\"]], \"type\": \"histogram2dcontour\"}], \"mesh3d\": [{\"colorbar\": {\"outlinewidth\": 0, \"ticks\": \"\"}, \"type\": \"mesh3d\"}], \"parcoords\": [{\"line\": {\"colorbar\": {\"outlinewidth\": 0, \"ticks\": \"\"}}, \"type\": \"parcoords\"}], \"pie\": [{\"automargin\": true, \"type\": \"pie\"}], \"scatter\": [{\"marker\": {\"colorbar\": {\"outlinewidth\": 0, \"ticks\": \"\"}}, \"type\": \"scatter\"}], \"scatter3d\": [{\"line\": {\"colorbar\": {\"outlinewidth\": 0, \"ticks\": \"\"}}, \"marker\": {\"colorbar\": {\"outlinewidth\": 0, \"ticks\": \"\"}}, \"type\": \"scatter3d\"}], \"scattercarpet\": [{\"marker\": {\"colorbar\": {\"outlinewidth\": 0, \"ticks\": \"\"}}, \"type\": \"scattercarpet\"}], \"scattergeo\": [{\"marker\": {\"colorbar\": {\"outlinewidth\": 0, \"ticks\": \"\"}}, \"type\": \"scattergeo\"}], \"scattergl\": [{\"marker\": {\"colorbar\": {\"outlinewidth\": 0, \"ticks\": \"\"}}, \"type\": \"scattergl\"}], \"scattermapbox\": [{\"marker\": {\"colorbar\": {\"outlinewidth\": 0, \"ticks\": \"\"}}, \"type\": \"scattermapbox\"}], \"scatterpolar\": [{\"marker\": {\"colorbar\": {\"outlinewidth\": 0, \"ticks\": \"\"}}, \"type\": \"scatterpolar\"}], \"scatterpolargl\": [{\"marker\": {\"colorbar\": {\"outlinewidth\": 0, \"ticks\": \"\"}}, \"type\": \"scatterpolargl\"}], \"scatterternary\": [{\"marker\": {\"colorbar\": {\"outlinewidth\": 0, \"ticks\": \"\"}}, \"type\": \"scatterternary\"}], \"surface\": [{\"colorbar\": {\"outlinewidth\": 0, \"ticks\": \"\"}, \"colorscale\": [[0.0, \"#0d0887\"], [0.1111111111111111, \"#46039f\"], [0.2222222222222222, \"#7201a8\"], [0.3333333333333333, \"#9c179e\"], [0.4444444444444444, \"#bd3786\"], [0.5555555555555556, \"#d8576b\"], [0.6666666666666666, \"#ed7953\"], [0.7777777777777778, \"#fb9f3a\"], [0.8888888888888888, \"#fdca26\"], [1.0, \"#f0f921\"]], \"type\": \"surface\"}], \"table\": [{\"cells\": {\"fill\": {\"color\": \"#EBF0F8\"}, \"line\": {\"color\": \"white\"}}, \"header\": {\"fill\": {\"color\": \"#C8D4E3\"}, \"line\": {\"color\": \"white\"}}, \"type\": \"table\"}]}, \"layout\": {\"annotationdefaults\": {\"arrowcolor\": \"#2a3f5f\", \"arrowhead\": 0, \"arrowwidth\": 1}, \"autotypenumbers\": \"strict\", \"coloraxis\": {\"colorbar\": {\"outlinewidth\": 0, \"ticks\": \"\"}}, \"colorscale\": {\"diverging\": [[0, \"#8e0152\"], [0.1, \"#c51b7d\"], [0.2, \"#de77ae\"], [0.3, \"#f1b6da\"], [0.4, \"#fde0ef\"], [0.5, \"#f7f7f7\"], [0.6, \"#e6f5d0\"], [0.7, \"#b8e186\"], [0.8, \"#7fbc41\"], [0.9, \"#4d9221\"], [1, \"#276419\"]], \"sequential\": [[0.0, \"#0d0887\"], [0.1111111111111111, \"#46039f\"], [0.2222222222222222, \"#7201a8\"], [0.3333333333333333, \"#9c179e\"], [0.4444444444444444, \"#bd3786\"], [0.5555555555555556, \"#d8576b\"], [0.6666666666666666, \"#ed7953\"], [0.7777777777777778, \"#fb9f3a\"], [0.8888888888888888, \"#fdca26\"], [1.0, \"#f0f921\"]], \"sequentialminus\": [[0.0, \"#0d0887\"], [0.1111111111111111, \"#46039f\"], [0.2222222222222222, \"#7201a8\"], [0.3333333333333333, \"#9c179e\"], [0.4444444444444444, \"#bd3786\"], [0.5555555555555556, \"#d8576b\"], [0.6666666666666666, \"#ed7953\"], [0.7777777777777778, \"#fb9f3a\"], [0.8888888888888888, \"#fdca26\"], [1.0, \"#f0f921\"]]}, \"colorway\": [\"#636efa\", \"#EF553B\", \"#00cc96\", \"#ab63fa\", \"#FFA15A\", \"#19d3f3\", \"#FF6692\", \"#B6E880\", \"#FF97FF\", \"#FECB52\"], \"font\": {\"color\": \"#2a3f5f\"}, \"geo\": {\"bgcolor\": \"white\", \"lakecolor\": \"white\", \"landcolor\": \"#E5ECF6\", \"showlakes\": true, \"showland\": true, \"subunitcolor\": \"white\"}, \"hoverlabel\": {\"align\": \"left\"}, \"hovermode\": \"closest\", \"mapbox\": {\"style\": \"light\"}, \"paper_bgcolor\": \"white\", \"plot_bgcolor\": \"#E5ECF6\", \"polar\": {\"angularaxis\": {\"gridcolor\": \"white\", \"linecolor\": \"white\", \"ticks\": \"\"}, \"bgcolor\": \"#E5ECF6\", \"radialaxis\": {\"gridcolor\": \"white\", \"linecolor\": \"white\", \"ticks\": \"\"}}, \"scene\": {\"xaxis\": {\"backgroundcolor\": \"#E5ECF6\", \"gridcolor\": \"white\", \"gridwidth\": 2, \"linecolor\": \"white\", \"showbackground\": true, \"ticks\": \"\", \"zerolinecolor\": \"white\"}, \"yaxis\": {\"backgroundcolor\": \"#E5ECF6\", \"gridcolor\": \"white\", \"gridwidth\": 2, \"linecolor\": \"white\", \"showbackground\": true, \"ticks\": \"\", \"zerolinecolor\": \"white\"}, \"zaxis\": {\"backgroundcolor\": \"#E5ECF6\", \"gridcolor\": \"white\", \"gridwidth\": 2, \"linecolor\": \"white\", \"showbackground\": true, \"ticks\": \"\", \"zerolinecolor\": \"white\"}}, \"shapedefaults\": {\"line\": {\"color\": \"#2a3f5f\"}}, \"ternary\": {\"aaxis\": {\"gridcolor\": \"white\", \"linecolor\": \"white\", \"ticks\": \"\"}, \"baxis\": {\"gridcolor\": \"white\", \"linecolor\": \"white\", \"ticks\": \"\"}, \"bgcolor\": \"#E5ECF6\", \"caxis\": {\"gridcolor\": \"white\", \"linecolor\": \"white\", \"ticks\": \"\"}}, \"title\": {\"x\": 0.05}, \"xaxis\": {\"automargin\": true, \"gridcolor\": \"white\", \"linecolor\": \"white\", \"ticks\": \"\", \"title\": {\"standoff\": 15}, \"zerolinecolor\": \"white\", \"zerolinewidth\": 2}, \"yaxis\": {\"automargin\": true, \"gridcolor\": \"white\", \"linecolor\": \"white\", \"ticks\": \"\", \"title\": {\"standoff\": 15}, \"zerolinecolor\": \"white\", \"zerolinewidth\": 2}}}, \"title\": {\"text\": \"Top-30 openings of Anand\"}, \"xaxis\": {\"anchor\": \"y\", \"domain\": [0.0, 1.0], \"title\": {\"text\": \"ECO (opening code)\"}}, \"yaxis\": {\"anchor\": \"x\", \"domain\": [0.0, 1.0], \"title\": {\"text\": \"Frequency\"}}},                        {\"responsive\": true}                    ).then(function(){\n",
       "                            \n",
       "var gd = document.getElementById('a18eb387-a6a1-4b54-8330-0d8ad9f54cef');\n",
       "var x = new MutationObserver(function (mutations, observer) {{\n",
       "        var display = window.getComputedStyle(gd).display;\n",
       "        if (!display || display === 'none') {{\n",
       "            console.log([gd, 'removed!']);\n",
       "            Plotly.purge(gd);\n",
       "            observer.disconnect();\n",
       "        }}\n",
       "}});\n",
       "\n",
       "// Listen for the removal of the full notebook cells\n",
       "var notebookContainer = gd.closest('#notebook-container');\n",
       "if (notebookContainer) {{\n",
       "    x.observe(notebookContainer, {childList: true});\n",
       "}}\n",
       "\n",
       "// Listen for the clearing of the current output cell\n",
       "var outputEl = gd.closest('.output');\n",
       "if (outputEl) {{\n",
       "    x.observe(outputEl, {childList: true});\n",
       "}}\n",
       "\n",
       "                        })                };                });            </script>        </div>"
      ]
     },
     "metadata": {},
     "output_type": "display_data"
    }
   ],
   "source": [
    "fig = px.bar(df, x='ECO', y='Frequency',\n",
    "             hover_data=['desc','perc'],\n",
    "             height=400, \n",
    "             title = \"Top-\"+str(top)+\" openings of \"+lastname,\n",
    "             labels={'ECO':'ECO (opening code)', \n",
    "                     'Frequency':'Frequency',\n",
    "                    'perc':'Ratio'},\n",
    "             color='Frequency',\n",
    "             color_continuous_scale=\"rdbu_r\"\n",
    "            )\n",
    "fig.show()"
   ]
  }
 ],
 "metadata": {
  "kernelspec": {
   "display_name": "Python 3",
   "language": "python",
   "name": "python3"
  },
  "language_info": {
   "codemirror_mode": {
    "name": "ipython",
    "version": 3
   },
   "file_extension": ".py",
   "mimetype": "text/x-python",
   "name": "python",
   "nbconvert_exporter": "python",
   "pygments_lexer": "ipython3",
   "version": "3.9.1"
  }
 },
 "nbformat": 4,
 "nbformat_minor": 2
}
